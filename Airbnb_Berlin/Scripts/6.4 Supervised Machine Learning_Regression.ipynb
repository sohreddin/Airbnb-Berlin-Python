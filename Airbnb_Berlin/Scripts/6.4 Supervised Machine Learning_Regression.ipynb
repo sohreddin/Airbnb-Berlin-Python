{
 "cells": [
  {
   "cell_type": "markdown",
   "id": "324cb984",
   "metadata": {},
   "source": [
    "# <font color=darkpink>Airbnb Berlin</font>\n",
    "\n",
    "This script contains the following:\n",
    "\n",
    "1. Import libraries and data\n",
    "\n",
    "\n",
    "2. Data cleaning\n",
    "\n",
    "\n",
    "3. Data prep for regression analysis\n",
    "\n",
    "\n",
    "4. Regression analysis\n",
    "\n",
    "\n",
    "5. Export data\n",
    "\n",
    "** **"
   ]
  },
  {
   "cell_type": "markdown",
   "id": "84a75bcd",
   "metadata": {},
   "source": [
    "## 1. Import libraries and data"
   ]
  },
  {
   "cell_type": "code",
   "execution_count": 1,
   "id": "d78b11c3",
   "metadata": {},
   "outputs": [],
   "source": [
    "import pandas as pd\n",
    "import numpy as np\n",
    "import seaborn as sns\n",
    "import matplotlib\n",
    "import matplotlib.pyplot as plt\n",
    "import os\n",
    "import sklearn\n",
    "from sklearn.model_selection import train_test_split \n",
    "from sklearn.linear_model import LinearRegression\n",
    "from sklearn.metrics import mean_squared_error, r2_score"
   ]
  },
  {
   "cell_type": "code",
   "execution_count": 2,
   "id": "e887a46f",
   "metadata": {},
   "outputs": [],
   "source": [
    "# This option ensures that the graphs you create are displayed within the notebook without the need to \"call\" them specifically.\n",
    "\n",
    "%matplotlib inline"
   ]
  },
  {
   "cell_type": "code",
   "execution_count": 3,
   "id": "23c1c78a",
   "metadata": {},
   "outputs": [],
   "source": [
    "path = r'/Users/berk/Airbnb_Berlin'"
   ]
  },
  {
   "cell_type": "code",
   "execution_count": 4,
   "id": "e84111cd",
   "metadata": {},
   "outputs": [],
   "source": [
    "# Import data\n",
    "\n",
    "df_list = pd.read_csv(os.path.join(path, 'Data', 'Prepared_Data', 'list_cleaned_3.csv'), index_col = False)"
   ]
  },
  {
   "cell_type": "markdown",
   "id": "655b2119",
   "metadata": {},
   "source": [
    "## 2. Data cleaning"
   ]
  },
  {
   "cell_type": "code",
   "execution_count": 5,
   "id": "6b1da25f",
   "metadata": {},
   "outputs": [
    {
     "data": {
      "text/plain": [
       "Index(['Unnamed: 0', 'listing_id', 'listing_name', 'host_id', 'host_name',\n",
       "       'district', 'neighbourhood', 'latitude', 'longitude', 'room_type',\n",
       "       'price', 'minimum_nights', 'number_of_reviews', 'last_review',\n",
       "       'reviews_per_month', 'host_total_listings', 'availability_365',\n",
       "       'review_in_the_last_year', 'license', 'price_category'],\n",
       "      dtype='object')"
      ]
     },
     "execution_count": 5,
     "metadata": {},
     "output_type": "execute_result"
    }
   ],
   "source": [
    "df_list.columns"
   ]
  },
  {
   "cell_type": "code",
   "execution_count": 6,
   "id": "5da17b93",
   "metadata": {},
   "outputs": [],
   "source": [
    "# Drop Unnamed\n",
    "\n",
    "df_list = df_list.drop(columns = ['Unnamed: 0'])"
   ]
  },
  {
   "cell_type": "code",
   "execution_count": 7,
   "id": "b3fa06b0",
   "metadata": {},
   "outputs": [
    {
     "data": {
      "text/html": [
       "<div>\n",
       "<style scoped>\n",
       "    .dataframe tbody tr th:only-of-type {\n",
       "        vertical-align: middle;\n",
       "    }\n",
       "\n",
       "    .dataframe tbody tr th {\n",
       "        vertical-align: top;\n",
       "    }\n",
       "\n",
       "    .dataframe thead th {\n",
       "        text-align: right;\n",
       "    }\n",
       "</style>\n",
       "<table border=\"1\" class=\"dataframe\">\n",
       "  <thead>\n",
       "    <tr style=\"text-align: right;\">\n",
       "      <th></th>\n",
       "      <th>listing_id</th>\n",
       "      <th>listing_name</th>\n",
       "      <th>host_id</th>\n",
       "      <th>host_name</th>\n",
       "      <th>district</th>\n",
       "      <th>neighbourhood</th>\n",
       "      <th>latitude</th>\n",
       "      <th>longitude</th>\n",
       "      <th>room_type</th>\n",
       "      <th>price</th>\n",
       "      <th>minimum_nights</th>\n",
       "      <th>number_of_reviews</th>\n",
       "      <th>last_review</th>\n",
       "      <th>reviews_per_month</th>\n",
       "      <th>host_total_listings</th>\n",
       "      <th>availability_365</th>\n",
       "      <th>review_in_the_last_year</th>\n",
       "      <th>license</th>\n",
       "      <th>price_category</th>\n",
       "    </tr>\n",
       "  </thead>\n",
       "  <tbody>\n",
       "    <tr>\n",
       "      <th>0</th>\n",
       "      <td>3176</td>\n",
       "      <td>Fabulous Flat in great Location</td>\n",
       "      <td>3718</td>\n",
       "      <td>Britta</td>\n",
       "      <td>Pankow</td>\n",
       "      <td>Prenzlauer Berg Südwest</td>\n",
       "      <td>52.53471</td>\n",
       "      <td>13.41810</td>\n",
       "      <td>Entire home/apt</td>\n",
       "      <td>83</td>\n",
       "      <td>63</td>\n",
       "      <td>147</td>\n",
       "      <td>2021-01-01</td>\n",
       "      <td>0.88</td>\n",
       "      <td>1</td>\n",
       "      <td>303</td>\n",
       "      <td>0</td>\n",
       "      <td>First name and Last name: Nicolas Krotz  Conta...</td>\n",
       "      <td>middle_price</td>\n",
       "    </tr>\n",
       "    <tr>\n",
       "      <th>1</th>\n",
       "      <td>251423</td>\n",
       "      <td>2-room I 50 m² I Comfort I Balcony</td>\n",
       "      <td>1023063</td>\n",
       "      <td>Raja Jooseppi</td>\n",
       "      <td>Mitte</td>\n",
       "      <td>Brunnenstr. Nord</td>\n",
       "      <td>52.53867</td>\n",
       "      <td>13.39712</td>\n",
       "      <td>Entire home/apt</td>\n",
       "      <td>100</td>\n",
       "      <td>3</td>\n",
       "      <td>14</td>\n",
       "      <td>2023-01-29</td>\n",
       "      <td>0.11</td>\n",
       "      <td>8</td>\n",
       "      <td>93</td>\n",
       "      <td>10</td>\n",
       "      <td>01/Z/NA/003420-15</td>\n",
       "      <td>middle_price</td>\n",
       "    </tr>\n",
       "    <tr>\n",
       "      <th>2</th>\n",
       "      <td>9991</td>\n",
       "      <td>Geourgeous flat - outstanding views</td>\n",
       "      <td>33852</td>\n",
       "      <td>Philipp</td>\n",
       "      <td>Pankow</td>\n",
       "      <td>Prenzlauer Berg Südwest</td>\n",
       "      <td>52.53269</td>\n",
       "      <td>13.41805</td>\n",
       "      <td>Entire home/apt</td>\n",
       "      <td>180</td>\n",
       "      <td>6</td>\n",
       "      <td>8</td>\n",
       "      <td>2020-01-04</td>\n",
       "      <td>0.09</td>\n",
       "      <td>1</td>\n",
       "      <td>0</td>\n",
       "      <td>0</td>\n",
       "      <td>03/Z/RA/003410-18</td>\n",
       "      <td>high_price</td>\n",
       "    </tr>\n",
       "    <tr>\n",
       "      <th>3</th>\n",
       "      <td>251486</td>\n",
       "      <td>I 2 Room I 41 m²  I Balcony</td>\n",
       "      <td>1023063</td>\n",
       "      <td>Raja Jooseppi</td>\n",
       "      <td>Mitte</td>\n",
       "      <td>Brunnenstr. Süd</td>\n",
       "      <td>52.53667</td>\n",
       "      <td>13.39505</td>\n",
       "      <td>Entire home/apt</td>\n",
       "      <td>108</td>\n",
       "      <td>3</td>\n",
       "      <td>31</td>\n",
       "      <td>2023-03-14</td>\n",
       "      <td>0.24</td>\n",
       "      <td>8</td>\n",
       "      <td>104</td>\n",
       "      <td>28</td>\n",
       "      <td>01/Z/ZA/006181-16</td>\n",
       "      <td>middle_price</td>\n",
       "    </tr>\n",
       "    <tr>\n",
       "      <th>4</th>\n",
       "      <td>251493</td>\n",
       "      <td>2-room I 41 m²  I Terrace &gt; Mitte</td>\n",
       "      <td>1023063</td>\n",
       "      <td>Raja Jooseppi</td>\n",
       "      <td>Mitte</td>\n",
       "      <td>Brunnenstr. Nord</td>\n",
       "      <td>52.53881</td>\n",
       "      <td>13.39654</td>\n",
       "      <td>Entire home/apt</td>\n",
       "      <td>98</td>\n",
       "      <td>3</td>\n",
       "      <td>15</td>\n",
       "      <td>2023-02-26</td>\n",
       "      <td>0.12</td>\n",
       "      <td>8</td>\n",
       "      <td>98</td>\n",
       "      <td>13</td>\n",
       "      <td>01/Z/ZA/006180-16</td>\n",
       "      <td>middle_price</td>\n",
       "    </tr>\n",
       "  </tbody>\n",
       "</table>\n",
       "</div>"
      ],
      "text/plain": [
       "   listing_id                         listing_name  host_id      host_name  \\\n",
       "0        3176      Fabulous Flat in great Location     3718         Britta   \n",
       "1      251423   2-room I 50 m² I Comfort I Balcony  1023063  Raja Jooseppi   \n",
       "2        9991  Geourgeous flat - outstanding views    33852        Philipp   \n",
       "3      251486          I 2 Room I 41 m²  I Balcony  1023063  Raja Jooseppi   \n",
       "4      251493    2-room I 41 m²  I Terrace > Mitte  1023063  Raja Jooseppi   \n",
       "\n",
       "  district            neighbourhood  latitude  longitude        room_type  \\\n",
       "0   Pankow  Prenzlauer Berg Südwest  52.53471   13.41810  Entire home/apt   \n",
       "1    Mitte         Brunnenstr. Nord  52.53867   13.39712  Entire home/apt   \n",
       "2   Pankow  Prenzlauer Berg Südwest  52.53269   13.41805  Entire home/apt   \n",
       "3    Mitte          Brunnenstr. Süd  52.53667   13.39505  Entire home/apt   \n",
       "4    Mitte         Brunnenstr. Nord  52.53881   13.39654  Entire home/apt   \n",
       "\n",
       "   price  minimum_nights  number_of_reviews last_review  reviews_per_month  \\\n",
       "0     83              63                147  2021-01-01               0.88   \n",
       "1    100               3                 14  2023-01-29               0.11   \n",
       "2    180               6                  8  2020-01-04               0.09   \n",
       "3    108               3                 31  2023-03-14               0.24   \n",
       "4     98               3                 15  2023-02-26               0.12   \n",
       "\n",
       "   host_total_listings  availability_365  review_in_the_last_year  \\\n",
       "0                    1               303                        0   \n",
       "1                    8                93                       10   \n",
       "2                    1                 0                        0   \n",
       "3                    8               104                       28   \n",
       "4                    8                98                       13   \n",
       "\n",
       "                                             license price_category  \n",
       "0  First name and Last name: Nicolas Krotz  Conta...   middle_price  \n",
       "1                                  01/Z/NA/003420-15   middle_price  \n",
       "2                                  03/Z/RA/003410-18     high_price  \n",
       "3                                  01/Z/ZA/006181-16   middle_price  \n",
       "4                                  01/Z/ZA/006180-16   middle_price  "
      ]
     },
     "execution_count": 7,
     "metadata": {},
     "output_type": "execute_result"
    }
   ],
   "source": [
    "df_list.head()"
   ]
  },
  {
   "cell_type": "code",
   "execution_count": 8,
   "id": "bc39383c",
   "metadata": {},
   "outputs": [
    {
     "data": {
      "text/plain": [
       "(6063, 19)"
      ]
     },
     "execution_count": 8,
     "metadata": {},
     "output_type": "execute_result"
    }
   ],
   "source": [
    "df_list.shape"
   ]
  },
  {
   "cell_type": "code",
   "execution_count": 9,
   "id": "a118140c",
   "metadata": {},
   "outputs": [
    {
     "data": {
      "text/plain": [
       "listing_id                 0\n",
       "listing_name               0\n",
       "host_id                    0\n",
       "host_name                  0\n",
       "district                   0\n",
       "neighbourhood              0\n",
       "latitude                   0\n",
       "longitude                  0\n",
       "room_type                  0\n",
       "price                      0\n",
       "minimum_nights             0\n",
       "number_of_reviews          0\n",
       "last_review                0\n",
       "reviews_per_month          0\n",
       "host_total_listings        0\n",
       "availability_365           0\n",
       "review_in_the_last_year    0\n",
       "license                    0\n",
       "price_category             0\n",
       "dtype: int64"
      ]
     },
     "execution_count": 9,
     "metadata": {},
     "output_type": "execute_result"
    }
   ],
   "source": [
    "# Check for missing values\n",
    "\n",
    "df_list.isnull().sum()  # No Missing Values"
   ]
  },
  {
   "cell_type": "code",
   "execution_count": 10,
   "id": "7170a21d",
   "metadata": {},
   "outputs": [
    {
     "data": {
      "text/plain": [
       "(6063,)"
      ]
     },
     "execution_count": 10,
     "metadata": {},
     "output_type": "execute_result"
    }
   ],
   "source": [
    "# Check dups\n",
    "\n",
    "dups = df_list.duplicated()\n",
    "\n",
    "dups.shape # No Dups"
   ]
  },
  {
   "cell_type": "code",
   "execution_count": 11,
   "id": "b7e0c38f",
   "metadata": {},
   "outputs": [
    {
     "name": "stderr",
     "output_type": "stream",
     "text": [
      "/Users/berk/opt/anaconda3/lib/python3.9/site-packages/seaborn/distributions.py:2619: FutureWarning: `distplot` is a deprecated function and will be removed in a future version. Please adapt your code to use either `displot` (a figure-level function with similar flexibility) or `histplot` (an axes-level function for histograms).\n",
      "  warnings.warn(msg, FutureWarning)\n"
     ]
    },
    {
     "data": {
      "text/plain": [
       "<AxesSubplot:xlabel='price', ylabel='Density'>"
      ]
     },
     "execution_count": 11,
     "metadata": {},
     "output_type": "execute_result"
    },
    {
     "data": {
      "image/png": "[encoded data removed]",
      "text/plain": [
       "<Figure size 640x480 with 1 Axes>"
      ]
     },
     "metadata": {},
     "output_type": "display_data"
    }
   ],
   "source": [
    "# Extreme values checks\n",
    "\n",
    "sns.distplot(df_list['price'], bins=25)  # Shows extreme values"
   ]
  },
  {
   "cell_type": "code",
   "execution_count": 12,
   "id": "f1f40722",
   "metadata": {},
   "outputs": [
    {
     "data": {
      "text/html": [
       "<div>\n",
       "<style scoped>\n",
       "    .dataframe tbody tr th:only-of-type {\n",
       "        vertical-align: middle;\n",
       "    }\n",
       "\n",
       "    .dataframe tbody tr th {\n",
       "        vertical-align: top;\n",
       "    }\n",
       "\n",
       "    .dataframe thead th {\n",
       "        text-align: right;\n",
       "    }\n",
       "</style>\n",
       "<table border=\"1\" class=\"dataframe\">\n",
       "  <thead>\n",
       "    <tr style=\"text-align: right;\">\n",
       "      <th></th>\n",
       "      <th>listing_id</th>\n",
       "      <th>host_id</th>\n",
       "      <th>latitude</th>\n",
       "      <th>longitude</th>\n",
       "      <th>price</th>\n",
       "      <th>minimum_nights</th>\n",
       "      <th>number_of_reviews</th>\n",
       "      <th>reviews_per_month</th>\n",
       "      <th>host_total_listings</th>\n",
       "      <th>availability_365</th>\n",
       "      <th>review_in_the_last_year</th>\n",
       "    </tr>\n",
       "  </thead>\n",
       "  <tbody>\n",
       "    <tr>\n",
       "      <th>count</th>\n",
       "      <td>6.063000e+03</td>\n",
       "      <td>6.063000e+03</td>\n",
       "      <td>6063.000000</td>\n",
       "      <td>6063.000000</td>\n",
       "      <td>6063.000000</td>\n",
       "      <td>6063.000000</td>\n",
       "      <td>6063.000000</td>\n",
       "      <td>6063.000000</td>\n",
       "      <td>6063.000000</td>\n",
       "      <td>6063.000000</td>\n",
       "      <td>6063.000000</td>\n",
       "    </tr>\n",
       "    <tr>\n",
       "      <th>mean</th>\n",
       "      <td>1.625966e+17</td>\n",
       "      <td>1.398033e+08</td>\n",
       "      <td>52.509543</td>\n",
       "      <td>13.403981</td>\n",
       "      <td>123.571499</td>\n",
       "      <td>6.950025</td>\n",
       "      <td>60.797955</td>\n",
       "      <td>1.552847</td>\n",
       "      <td>6.057727</td>\n",
       "      <td>139.830117</td>\n",
       "      <td>17.876959</td>\n",
       "    </tr>\n",
       "    <tr>\n",
       "      <th>std</th>\n",
       "      <td>2.941569e+17</td>\n",
       "      <td>1.548899e+08</td>\n",
       "      <td>0.034758</td>\n",
       "      <td>0.069322</td>\n",
       "      <td>242.069727</td>\n",
       "      <td>20.048670</td>\n",
       "      <td>96.805576</td>\n",
       "      <td>2.198808</td>\n",
       "      <td>12.290433</td>\n",
       "      <td>124.775739</td>\n",
       "      <td>28.061429</td>\n",
       "    </tr>\n",
       "    <tr>\n",
       "      <th>min</th>\n",
       "      <td>3.176000e+03</td>\n",
       "      <td>3.718000e+03</td>\n",
       "      <td>52.369040</td>\n",
       "      <td>13.118150</td>\n",
       "      <td>13.000000</td>\n",
       "      <td>1.000000</td>\n",
       "      <td>1.000000</td>\n",
       "      <td>0.010000</td>\n",
       "      <td>1.000000</td>\n",
       "      <td>0.000000</td>\n",
       "      <td>0.000000</td>\n",
       "    </tr>\n",
       "    <tr>\n",
       "      <th>25%</th>\n",
       "      <td>1.957311e+07</td>\n",
       "      <td>9.573130e+06</td>\n",
       "      <td>52.491160</td>\n",
       "      <td>13.367395</td>\n",
       "      <td>65.000000</td>\n",
       "      <td>1.000000</td>\n",
       "      <td>7.000000</td>\n",
       "      <td>0.385000</td>\n",
       "      <td>1.000000</td>\n",
       "      <td>15.000000</td>\n",
       "      <td>2.000000</td>\n",
       "    </tr>\n",
       "    <tr>\n",
       "      <th>50%</th>\n",
       "      <td>3.816220e+07</td>\n",
       "      <td>6.419923e+07</td>\n",
       "      <td>52.510360</td>\n",
       "      <td>13.411150</td>\n",
       "      <td>95.000000</td>\n",
       "      <td>2.000000</td>\n",
       "      <td>23.000000</td>\n",
       "      <td>0.990000</td>\n",
       "      <td>1.000000</td>\n",
       "      <td>111.000000</td>\n",
       "      <td>9.000000</td>\n",
       "    </tr>\n",
       "    <tr>\n",
       "      <th>75%</th>\n",
       "      <td>5.392861e+07</td>\n",
       "      <td>2.412783e+08</td>\n",
       "      <td>52.532168</td>\n",
       "      <td>13.437400</td>\n",
       "      <td>144.000000</td>\n",
       "      <td>4.000000</td>\n",
       "      <td>73.000000</td>\n",
       "      <td>2.060000</td>\n",
       "      <td>5.000000</td>\n",
       "      <td>256.000000</td>\n",
       "      <td>25.000000</td>\n",
       "    </tr>\n",
       "    <tr>\n",
       "      <th>max</th>\n",
       "      <td>8.435044e+17</td>\n",
       "      <td>5.036882e+08</td>\n",
       "      <td>52.656110</td>\n",
       "      <td>13.721360</td>\n",
       "      <td>9999.000000</td>\n",
       "      <td>720.000000</td>\n",
       "      <td>1806.000000</td>\n",
       "      <td>70.730000</td>\n",
       "      <td>133.000000</td>\n",
       "      <td>365.000000</td>\n",
       "      <td>703.000000</td>\n",
       "    </tr>\n",
       "  </tbody>\n",
       "</table>\n",
       "</div>"
      ],
      "text/plain": [
       "         listing_id       host_id     latitude    longitude        price  \\\n",
       "count  6.063000e+03  6.063000e+03  6063.000000  6063.000000  6063.000000   \n",
       "mean   1.625966e+17  1.398033e+08    52.509543    13.403981   123.571499   \n",
       "std    2.941569e+17  1.548899e+08     0.034758     0.069322   242.069727   \n",
       "min    3.176000e+03  3.718000e+03    52.369040    13.118150    13.000000   \n",
       "25%    1.957311e+07  9.573130e+06    52.491160    13.367395    65.000000   \n",
       "50%    3.816220e+07  6.419923e+07    52.510360    13.411150    95.000000   \n",
       "75%    5.392861e+07  2.412783e+08    52.532168    13.437400   144.000000   \n",
       "max    8.435044e+17  5.036882e+08    52.656110    13.721360  9999.000000   \n",
       "\n",
       "       minimum_nights  number_of_reviews  reviews_per_month  \\\n",
       "count     6063.000000        6063.000000        6063.000000   \n",
       "mean         6.950025          60.797955           1.552847   \n",
       "std         20.048670          96.805576           2.198808   \n",
       "min          1.000000           1.000000           0.010000   \n",
       "25%          1.000000           7.000000           0.385000   \n",
       "50%          2.000000          23.000000           0.990000   \n",
       "75%          4.000000          73.000000           2.060000   \n",
       "max        720.000000        1806.000000          70.730000   \n",
       "\n",
       "       host_total_listings  availability_365  review_in_the_last_year  \n",
       "count          6063.000000       6063.000000              6063.000000  \n",
       "mean              6.057727        139.830117                17.876959  \n",
       "std              12.290433        124.775739                28.061429  \n",
       "min               1.000000          0.000000                 0.000000  \n",
       "25%               1.000000         15.000000                 2.000000  \n",
       "50%               1.000000        111.000000                 9.000000  \n",
       "75%               5.000000        256.000000                25.000000  \n",
       "max             133.000000        365.000000               703.000000  "
      ]
     },
     "execution_count": 12,
     "metadata": {},
     "output_type": "execute_result"
    }
   ],
   "source": [
    "df_list.describe()"
   ]
  },
  {
   "cell_type": "markdown",
   "id": "92495616",
   "metadata": {},
   "source": [
    "## 3. Data prep for regression analysis"
   ]
  },
  {
   "cell_type": "code",
   "execution_count": 13,
   "id": "db24fde7",
   "metadata": {},
   "outputs": [
    {
     "data": {
      "image/png": "[encoded data removed]",
      "text/plain": [
       "<Figure size 640x480 with 1 Axes>"
      ]
     },
     "metadata": {},
     "output_type": "display_data"
    }
   ],
   "source": [
    "# Create a scatterplot minimum_nights vs price\n",
    "\n",
    "df_list.plot(x = 'minimum_nights', y = 'price', style = 'o')\n",
    "plt.title('Minimum_nights vs price per night')  \n",
    "plt.xlabel('Minimum nights')  \n",
    "plt.ylabel('Price per night')  \n",
    "plt.show()"
   ]
  },
  {
   "cell_type": "markdown",
   "id": "4086526f",
   "metadata": {},
   "source": [
    "While not following a strictly linear pattern, there is an observable trend in the data. The majority of data points tend to cluster towards the lower end of the minimum nights range. As the minimum nights increase, there is a corresponding decrease in price."
   ]
  },
  {
   "cell_type": "code",
   "execution_count": 14,
   "id": "c718557f",
   "metadata": {},
   "outputs": [
    {
     "data": {
      "image/png": "[encoded data removed]",
      "text/plain": [
       "<Figure size 640x480 with 1 Axes>"
      ]
     },
     "metadata": {},
     "output_type": "display_data"
    }
   ],
   "source": [
    "# Create a scatterplot number_of_reviews vs price\n",
    "\n",
    "df_list.plot(x = 'number_of_reviews', y = 'price', style = 'o')\n",
    "plt.title('Number of reviews vs price per night')  \n",
    "plt.xlabel('Number of reviews')  \n",
    "plt.ylabel('Price per night')  \n",
    "plt.show()"
   ]
  },
  {
   "cell_type": "markdown",
   "id": "bc4d35c9",
   "metadata": {},
   "source": [
    "This relationship does not exhibit a linear pattern, either."
   ]
  },
  {
   "cell_type": "code",
   "execution_count": 15,
   "id": "de1736ff",
   "metadata": {},
   "outputs": [
    {
     "data": {
      "image/png": "[encoded data removed]",
      "text/plain": [
       "<Figure size 640x480 with 1 Axes>"
      ]
     },
     "metadata": {},
     "output_type": "display_data"
    }
   ],
   "source": [
    "# Create a scatterplot price vs host_total_listings\n",
    "\n",
    "df_list.plot(x = 'host_total_listings', y = 'price', style = 'o')\n",
    "plt.title('Price vs count of host listings')  \n",
    "plt.xlabel('Count of host listings')  \n",
    "plt.ylabel('Price')  \n",
    "plt.show()"
   ]
  },
  {
   "cell_type": "markdown",
   "id": "4389fe8b",
   "metadata": {},
   "source": [
    "This relationship could be linear."
   ]
  },
  {
   "cell_type": "markdown",
   "id": "5a9063c0",
   "metadata": {},
   "source": [
    "Hypothesis: It is hypothesized that the host listings for an Airbnb listing in Berlin has a positive impact on its pricing."
   ]
  },
  {
   "cell_type": "code",
   "execution_count": 16,
   "id": "711badec",
   "metadata": {},
   "outputs": [
    {
     "data": {
      "image/png": "[encoded data removed]",
      "text/plain": [
       "<Figure size 640x480 with 1 Axes>"
      ]
     },
     "metadata": {},
     "output_type": "display_data"
    }
   ],
   "source": [
    "# Create a scatterplot availability vs host_total_listings\n",
    "\n",
    "df_list.plot(x = 'host_total_listings', y = 'availability_365', style = 'o')\n",
    "plt.title('Availability vs Count of host listings')  \n",
    "plt.xlabel('Count of host listings')  \n",
    "plt.ylabel('Availability 365')  \n",
    "plt.show()"
   ]
  },
  {
   "cell_type": "markdown",
   "id": "28df4142",
   "metadata": {},
   "source": [
    "#### I have selected the scatter plot showcasing the correlation between Price and Count of host listings for regression analysis. This scatter plot demonstrates a clear linear trend, suggesting a possible relationship between these two variables. Thus, I will proceed with conducting regression analysis by considering Price as the dependent variable and Count of host listings as the independent variable."
   ]
  },
  {
   "cell_type": "code",
   "execution_count": 17,
   "id": "6d8d25ed",
   "metadata": {},
   "outputs": [],
   "source": [
    "# Reshape the variables, put them into separate objects.\n",
    "\n",
    "X = df_list['host_total_listings'].values.reshape(-1,1)\n",
    "\n",
    "y = df_list['price'].values.reshape(-1,1)"
   ]
  },
  {
   "cell_type": "code",
   "execution_count": 18,
   "id": "f1764cb0",
   "metadata": {},
   "outputs": [
    {
     "data": {
      "text/plain": [
       "array([[1],\n",
       "       [8],\n",
       "       [1],\n",
       "       ...,\n",
       "       [1],\n",
       "       [2],\n",
       "       [1]])"
      ]
     },
     "execution_count": 18,
     "metadata": {},
     "output_type": "execute_result"
    }
   ],
   "source": [
    "X"
   ]
  },
  {
   "cell_type": "code",
   "execution_count": 19,
   "id": "c604bf21",
   "metadata": {},
   "outputs": [
    {
     "data": {
      "text/plain": [
       "array([[ 83],\n",
       "       [100],\n",
       "       [180],\n",
       "       ...,\n",
       "       [ 49],\n",
       "       [ 62],\n",
       "       [ 60]])"
      ]
     },
     "execution_count": 19,
     "metadata": {},
     "output_type": "execute_result"
    }
   ],
   "source": [
    "y"
   ]
  },
  {
   "cell_type": "code",
   "execution_count": 20,
   "id": "3bdf9f9b",
   "metadata": {},
   "outputs": [],
   "source": [
    "# Split into training and test set\n",
    "\n",
    "X_train, X_test, y_train, y_test = train_test_split(X, y, test_size=0.3, random_state=0)"
   ]
  },
  {
   "cell_type": "markdown",
   "id": "6ebbf45c",
   "metadata": {},
   "source": [
    "## 4. Regression analysis"
   ]
  },
  {
   "cell_type": "code",
   "execution_count": 21,
   "id": "6ac79269",
   "metadata": {},
   "outputs": [],
   "source": [
    "# Create regression object\n",
    "\n",
    "regression = LinearRegression()"
   ]
  },
  {
   "cell_type": "code",
   "execution_count": 22,
   "id": "d0b8b3d8",
   "metadata": {},
   "outputs": [
    {
     "data": {
      "text/plain": [
       "LinearRegression()"
      ]
     },
     "execution_count": 22,
     "metadata": {},
     "output_type": "execute_result"
    }
   ],
   "source": [
    "# Fit it onto training set\n",
    "\n",
    "regression.fit(X_train, y_train)"
   ]
  },
  {
   "cell_type": "code",
   "execution_count": 23,
   "id": "7ffa0c17",
   "metadata": {},
   "outputs": [],
   "source": [
    "# Use trained regression object to predict y using X in test set \n",
    "\n",
    "y_predicted = regression.predict(X_test)"
   ]
  },
  {
   "cell_type": "code",
   "execution_count": 24,
   "id": "0bab30a2",
   "metadata": {},
   "outputs": [
    {
     "data": {
      "image/png": "[encoded data removed]",
      "text/plain": [
       "<Figure size 640x480 with 1 Axes>"
      ]
     },
     "metadata": {},
     "output_type": "display_data"
    }
   ],
   "source": [
    "# Create plot showing regression line (results) from the model on the test set\n",
    "\n",
    "plot_test = plt\n",
    "plot_test.scatter(X_test, y_test, color = 'gray', s = 15)\n",
    "plot_test.plot(X_test, y_predicted, color= 'red', linewidth = 3)\n",
    "plot_test.title('Count of host listings vs Price (Test set)')\n",
    "plot_test.xlabel('Count of host listings')\n",
    "plot_test.ylabel('Price')\n",
    "plot_test.show()"
   ]
  },
  {
   "cell_type": "code",
   "execution_count": 25,
   "id": "351d3728",
   "metadata": {},
   "outputs": [],
   "source": [
    "# Create objects that contain model summary statistics\n",
    "\n",
    "rmse = mean_squared_error(y_test, y_predicted)\n",
    "r2 = r2_score(y_test, y_predicted)"
   ]
  },
  {
   "cell_type": "code",
   "execution_count": 26,
   "id": "ada55553",
   "metadata": {},
   "outputs": [
    {
     "name": "stdout",
     "output_type": "stream",
     "text": [
      "Slope: [[1.04898141]]\n",
      "Mean squared error:  64038.0646595167\n",
      "R2 score:  0.0013651100247573655\n"
     ]
    }
   ],
   "source": [
    "# Check model summary statistics to evaluate performance of model\n",
    "\n",
    "print('Slope:' ,regression.coef_)\n",
    "print('Mean squared error: ', rmse)\n",
    "print('R2 score: ', r2)"
   ]
  },
  {
   "cell_type": "markdown",
   "id": "39156157",
   "metadata": {},
   "source": [
    "The positive slope coefficient suggests that there is a general tendency for the price (y) to increase as the count of host listings (X) increases.\n",
    "\n",
    "However, the high Mean Squared Error (MSE) indicates that the linear regression line does not accurately represent the relationship between the variables. The model's predictions deviate significantly from the actual data points, suggesting a lack of precision.\n",
    "\n",
    "Additionally, the low R2 score suggests that the linear model does not capture the variation in the data well. The strength of the linear relationship between the variables is relatively weak, indicating that a non-linear model might provide a better fit for analyzing this relationship."
   ]
  },
  {
   "cell_type": "code",
   "execution_count": 27,
   "id": "0bdf3d86",
   "metadata": {},
   "outputs": [
    {
     "data": {
      "text/html": [
       "<div>\n",
       "<style scoped>\n",
       "    .dataframe tbody tr th:only-of-type {\n",
       "        vertical-align: middle;\n",
       "    }\n",
       "\n",
       "    .dataframe tbody tr th {\n",
       "        vertical-align: top;\n",
       "    }\n",
       "\n",
       "    .dataframe thead th {\n",
       "        text-align: right;\n",
       "    }\n",
       "</style>\n",
       "<table border=\"1\" class=\"dataframe\">\n",
       "  <thead>\n",
       "    <tr style=\"text-align: right;\">\n",
       "      <th></th>\n",
       "      <th>Actual</th>\n",
       "      <th>Predicted</th>\n",
       "    </tr>\n",
       "  </thead>\n",
       "  <tbody>\n",
       "    <tr>\n",
       "      <th>0</th>\n",
       "      <td>139</td>\n",
       "      <td>123.102825</td>\n",
       "    </tr>\n",
       "    <tr>\n",
       "      <th>1</th>\n",
       "      <td>225</td>\n",
       "      <td>125.200788</td>\n",
       "    </tr>\n",
       "    <tr>\n",
       "      <th>2</th>\n",
       "      <td>50</td>\n",
       "      <td>117.857918</td>\n",
       "    </tr>\n",
       "    <tr>\n",
       "      <th>3</th>\n",
       "      <td>45</td>\n",
       "      <td>117.857918</td>\n",
       "    </tr>\n",
       "    <tr>\n",
       "      <th>4</th>\n",
       "      <td>120</td>\n",
       "      <td>117.857918</td>\n",
       "    </tr>\n",
       "    <tr>\n",
       "      <th>5</th>\n",
       "      <td>57</td>\n",
       "      <td>117.857918</td>\n",
       "    </tr>\n",
       "    <tr>\n",
       "      <th>6</th>\n",
       "      <td>120</td>\n",
       "      <td>117.857918</td>\n",
       "    </tr>\n",
       "    <tr>\n",
       "      <th>7</th>\n",
       "      <td>175</td>\n",
       "      <td>169.258007</td>\n",
       "    </tr>\n",
       "    <tr>\n",
       "      <th>8</th>\n",
       "      <td>125</td>\n",
       "      <td>117.857918</td>\n",
       "    </tr>\n",
       "    <tr>\n",
       "      <th>9</th>\n",
       "      <td>88</td>\n",
       "      <td>117.857918</td>\n",
       "    </tr>\n",
       "    <tr>\n",
       "      <th>10</th>\n",
       "      <td>1900</td>\n",
       "      <td>117.857918</td>\n",
       "    </tr>\n",
       "    <tr>\n",
       "      <th>11</th>\n",
       "      <td>67</td>\n",
       "      <td>117.857918</td>\n",
       "    </tr>\n",
       "    <tr>\n",
       "      <th>12</th>\n",
       "      <td>333</td>\n",
       "      <td>121.004862</td>\n",
       "    </tr>\n",
       "    <tr>\n",
       "      <th>13</th>\n",
       "      <td>68</td>\n",
       "      <td>121.004862</td>\n",
       "    </tr>\n",
       "    <tr>\n",
       "      <th>14</th>\n",
       "      <td>27</td>\n",
       "      <td>125.200788</td>\n",
       "    </tr>\n",
       "    <tr>\n",
       "      <th>15</th>\n",
       "      <td>117</td>\n",
       "      <td>117.857918</td>\n",
       "    </tr>\n",
       "    <tr>\n",
       "      <th>16</th>\n",
       "      <td>136</td>\n",
       "      <td>127.298751</td>\n",
       "    </tr>\n",
       "    <tr>\n",
       "      <th>17</th>\n",
       "      <td>118</td>\n",
       "      <td>123.102825</td>\n",
       "    </tr>\n",
       "    <tr>\n",
       "      <th>18</th>\n",
       "      <td>68</td>\n",
       "      <td>124.151807</td>\n",
       "    </tr>\n",
       "    <tr>\n",
       "      <th>19</th>\n",
       "      <td>35</td>\n",
       "      <td>118.906900</td>\n",
       "    </tr>\n",
       "    <tr>\n",
       "      <th>20</th>\n",
       "      <td>70</td>\n",
       "      <td>117.857918</td>\n",
       "    </tr>\n",
       "    <tr>\n",
       "      <th>21</th>\n",
       "      <td>98</td>\n",
       "      <td>121.004862</td>\n",
       "    </tr>\n",
       "    <tr>\n",
       "      <th>22</th>\n",
       "      <td>40</td>\n",
       "      <td>117.857918</td>\n",
       "    </tr>\n",
       "    <tr>\n",
       "      <th>23</th>\n",
       "      <td>50</td>\n",
       "      <td>117.857918</td>\n",
       "    </tr>\n",
       "    <tr>\n",
       "      <th>24</th>\n",
       "      <td>63</td>\n",
       "      <td>122.053844</td>\n",
       "    </tr>\n",
       "    <tr>\n",
       "      <th>25</th>\n",
       "      <td>70</td>\n",
       "      <td>118.906900</td>\n",
       "    </tr>\n",
       "    <tr>\n",
       "      <th>26</th>\n",
       "      <td>82</td>\n",
       "      <td>126.249769</td>\n",
       "    </tr>\n",
       "    <tr>\n",
       "      <th>27</th>\n",
       "      <td>59</td>\n",
       "      <td>117.857918</td>\n",
       "    </tr>\n",
       "    <tr>\n",
       "      <th>28</th>\n",
       "      <td>120</td>\n",
       "      <td>117.857918</td>\n",
       "    </tr>\n",
       "    <tr>\n",
       "      <th>29</th>\n",
       "      <td>200</td>\n",
       "      <td>117.857918</td>\n",
       "    </tr>\n",
       "  </tbody>\n",
       "</table>\n",
       "</div>"
      ],
      "text/plain": [
       "    Actual   Predicted\n",
       "0      139  123.102825\n",
       "1      225  125.200788\n",
       "2       50  117.857918\n",
       "3       45  117.857918\n",
       "4      120  117.857918\n",
       "5       57  117.857918\n",
       "6      120  117.857918\n",
       "7      175  169.258007\n",
       "8      125  117.857918\n",
       "9       88  117.857918\n",
       "10    1900  117.857918\n",
       "11      67  117.857918\n",
       "12     333  121.004862\n",
       "13      68  121.004862\n",
       "14      27  125.200788\n",
       "15     117  117.857918\n",
       "16     136  127.298751\n",
       "17     118  123.102825\n",
       "18      68  124.151807\n",
       "19      35  118.906900\n",
       "20      70  117.857918\n",
       "21      98  121.004862\n",
       "22      40  117.857918\n",
       "23      50  117.857918\n",
       "24      63  122.053844\n",
       "25      70  118.906900\n",
       "26      82  126.249769\n",
       "27      59  117.857918\n",
       "28     120  117.857918\n",
       "29     200  117.857918"
      ]
     },
     "execution_count": 27,
     "metadata": {},
     "output_type": "execute_result"
    }
   ],
   "source": [
    "# Create a dataframe to compare the actual and predicted values of y\n",
    "\n",
    "data = pd.DataFrame({'Actual': y_test.flatten(), 'Predicted': y_predicted.flatten()})\n",
    "data.head(30)"
   ]
  },
  {
   "cell_type": "markdown",
   "id": "02851ebe",
   "metadata": {},
   "source": [
    "After careful evaluation, it is clear that the model's predictive capabilities for y are not optimal. As a result, an additional version is now presented for your consideration."
   ]
  },
  {
   "cell_type": "code",
   "execution_count": 28,
   "id": "017c76cc",
   "metadata": {},
   "outputs": [],
   "source": [
    "# Compare how regression fits training set. How well does model predict y in the training set?\n",
    "\n",
    "y_predicted_train = regression.predict(X_train)"
   ]
  },
  {
   "cell_type": "code",
   "execution_count": 29,
   "id": "2a33f456",
   "metadata": {},
   "outputs": [],
   "source": [
    "rmse = mean_squared_error(y_train, y_predicted_train)\n",
    "r2 = r2_score(y_train, y_predicted_train)"
   ]
  },
  {
   "cell_type": "code",
   "execution_count": 30,
   "id": "d38dccff",
   "metadata": {},
   "outputs": [
    {
     "name": "stdout",
     "output_type": "stream",
     "text": [
      "Slope: [[1.04898141]]\n",
      "Mean squared error:  56046.17274690752\n",
      "R2 score:  0.0029944933270902307\n"
     ]
    }
   ],
   "source": [
    "print('Slope:' ,regression.coef_)\n",
    "print('Mean squared error: ', rmse)\n",
    "print('R2 score: ', r2)"
   ]
  },
  {
   "cell_type": "markdown",
   "id": "7b9d5d65",
   "metadata": {},
   "source": [
    "MSE remains large while R2 score is very low."
   ]
  },
  {
   "cell_type": "code",
   "execution_count": 31,
   "id": "fba44fff",
   "metadata": {},
   "outputs": [
    {
     "data": {
      "image/png": "[encoded data removed]",
      "text/plain": [
       "<Figure size 640x480 with 1 Axes>"
      ]
     },
     "metadata": {},
     "output_type": "display_data"
    }
   ],
   "source": [
    "# Visualize it\n",
    "\n",
    "plot_test = plt\n",
    "plot_test.scatter(X_train, y_train, color = 'green', s = 15)\n",
    "plot_test.plot(X_train, y_predicted_train, color = 'red', linewidth = 3)\n",
    "plot_test.title('Count of host listings vs price (Test set)')\n",
    "plot_test.xlabel('Count of host listings')\n",
    "plot_test.ylabel('Price')\n",
    "plot_test.show()"
   ]
  },
  {
   "cell_type": "markdown",
   "id": "50004424",
   "metadata": {},
   "source": [
    "## 5. Export data"
   ]
  },
  {
   "cell_type": "code",
   "execution_count": 32,
   "id": "7114218d",
   "metadata": {},
   "outputs": [],
   "source": [
    "# Export df_list\n",
    "\n",
    "df_list.to_csv(os.path.join(path, 'Data','Prepared_Data', 'list_cleaned_4.csv'))"
   ]
  }
 ],
 "metadata": {
  "kernelspec": {
   "display_name": "Python 3 (ipykernel)",
   "language": "python",
   "name": "python3"
  },
  "language_info": {
   "codemirror_mode": {
    "name": "ipython",
    "version": 3
   },
   "file_extension": ".py",
   "mimetype": "text/x-python",
   "name": "python",
   "nbconvert_exporter": "python",
   "pygments_lexer": "ipython3",
   "version": "3.9.13"
  }
 },
 "nbformat": 4,
 "nbformat_minor": 5
}
